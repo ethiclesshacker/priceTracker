{
 "cells": [
  {
   "cell_type": "code",
   "execution_count": 1,
   "metadata": {},
   "outputs": [],
   "source": [
    "import pandas as pd\n",
    "import numpy as np\n",
    "import sklearn\n",
    "from sklearn.model_selection import train_test_split\n",
    "from sklearn.svm import SVC\n",
    "from sklearn import svm, datasets\n",
    "import pickle\n",
    "\n",
    "\n",
    "data = pd.read_csv(\"phoneDetails2403NonSale.csv\")"
   ]
  },
  {
   "cell_type": "code",
   "execution_count": 2,
   "metadata": {},
   "outputs": [
    {
     "output_type": "execute_result",
     "data": {
      "text/plain": "           RAM    Storage  Front Camera  Back Camera  Battery Capacity  Price\n0     4.000000  64.000000             8           12              5000   7999\n1     4.000000  64.000000             8           12              5000   7999\n2     4.000000  64.000000            16           64              4300  12999\n3     3.000000  32.000000             5           12              5000   6999\n4     4.000000  64.000000            16           64              4300  12999\n...        ...        ...           ...          ...               ...    ...\n1187  0.031250   0.031250             0            2               550   1110\n1188  0.003906   0.007812             0            0              1020   1600\n1189  0.062500   0.250000             0            0               850    610\n1190  2.000000  16.000000             0            5              2500   3399\n1191  0.031250   0.031250             0            1              1800   1099\n\n[1122 rows x 6 columns]",
      "text/html": "<div>\n<style scoped>\n    .dataframe tbody tr th:only-of-type {\n        vertical-align: middle;\n    }\n\n    .dataframe tbody tr th {\n        vertical-align: top;\n    }\n\n    .dataframe thead th {\n        text-align: right;\n    }\n</style>\n<table border=\"1\" class=\"dataframe\">\n  <thead>\n    <tr style=\"text-align: right;\">\n      <th></th>\n      <th>RAM</th>\n      <th>Storage</th>\n      <th>Front Camera</th>\n      <th>Back Camera</th>\n      <th>Battery Capacity</th>\n      <th>Price</th>\n    </tr>\n  </thead>\n  <tbody>\n    <tr>\n      <th>0</th>\n      <td>4.000000</td>\n      <td>64.000000</td>\n      <td>8</td>\n      <td>12</td>\n      <td>5000</td>\n      <td>7999</td>\n    </tr>\n    <tr>\n      <th>1</th>\n      <td>4.000000</td>\n      <td>64.000000</td>\n      <td>8</td>\n      <td>12</td>\n      <td>5000</td>\n      <td>7999</td>\n    </tr>\n    <tr>\n      <th>2</th>\n      <td>4.000000</td>\n      <td>64.000000</td>\n      <td>16</td>\n      <td>64</td>\n      <td>4300</td>\n      <td>12999</td>\n    </tr>\n    <tr>\n      <th>3</th>\n      <td>3.000000</td>\n      <td>32.000000</td>\n      <td>5</td>\n      <td>12</td>\n      <td>5000</td>\n      <td>6999</td>\n    </tr>\n    <tr>\n      <th>4</th>\n      <td>4.000000</td>\n      <td>64.000000</td>\n      <td>16</td>\n      <td>64</td>\n      <td>4300</td>\n      <td>12999</td>\n    </tr>\n    <tr>\n      <th>...</th>\n      <td>...</td>\n      <td>...</td>\n      <td>...</td>\n      <td>...</td>\n      <td>...</td>\n      <td>...</td>\n    </tr>\n    <tr>\n      <th>1187</th>\n      <td>0.031250</td>\n      <td>0.031250</td>\n      <td>0</td>\n      <td>2</td>\n      <td>550</td>\n      <td>1110</td>\n    </tr>\n    <tr>\n      <th>1188</th>\n      <td>0.003906</td>\n      <td>0.007812</td>\n      <td>0</td>\n      <td>0</td>\n      <td>1020</td>\n      <td>1600</td>\n    </tr>\n    <tr>\n      <th>1189</th>\n      <td>0.062500</td>\n      <td>0.250000</td>\n      <td>0</td>\n      <td>0</td>\n      <td>850</td>\n      <td>610</td>\n    </tr>\n    <tr>\n      <th>1190</th>\n      <td>2.000000</td>\n      <td>16.000000</td>\n      <td>0</td>\n      <td>5</td>\n      <td>2500</td>\n      <td>3399</td>\n    </tr>\n    <tr>\n      <th>1191</th>\n      <td>0.031250</td>\n      <td>0.031250</td>\n      <td>0</td>\n      <td>1</td>\n      <td>1800</td>\n      <td>1099</td>\n    </tr>\n  </tbody>\n</table>\n<p>1122 rows × 6 columns</p>\n</div>"
     },
     "metadata": {},
     "execution_count": 2
    }
   ],
   "source": [
    "# Cleaning the dataset\n",
    "data = data.drop([\"Internet Connectivity 4G\"],1)\n",
    "data = data[data.RAM>0][data.Storage>0]\n",
    "data = data.drop([\"Company\"],1)\n",
    "data"
   ]
  },
  {
   "cell_type": "code",
   "execution_count": 3,
   "metadata": {},
   "outputs": [
    {
     "output_type": "stream",
     "name": "stdout",
     "text": "<bound method NDFrame.head of            RAM    Storage  Front Camera  Back Camera  Battery Capacity  Price  \\\n0     4.000000  64.000000             8           12              5000   7999   \n1     4.000000  64.000000             8           12              5000   7999   \n2     4.000000  64.000000            16           64              4300  12999   \n3     3.000000  32.000000             5           12              5000   6999   \n4     4.000000  64.000000            16           64              4300  12999   \n...        ...        ...           ...          ...               ...    ...   \n1187  0.031250   0.031250             0            2               550   1110   \n1188  0.003906   0.007812             0            0              1020   1600   \n1189  0.062500   0.250000             0            0               850    610   \n1190  2.000000  16.000000             0            5              2500   3399   \n1191  0.031250   0.031250             0            1              1800   1099   \n\n       Class  \n0     Budget  \n1     Budget  \n2     Budget  \n3     Budget  \n4     Budget  \n...      ...  \n1187     Low  \n1188     Low  \n1189     Low  \n1190     Low  \n1191     Low  \n\n[1122 rows x 7 columns]>\n"
    }
   ],
   "source": [
    "classes = []\n",
    "prices = list(data[\"Price\"])\n",
    "\n",
    "# Using custom values to create a \"Class\" column\n",
    "for price in prices:\n",
    "    if(price<5000):\n",
    "        classes.append(\"Low\")\n",
    "    elif(price<15000):\n",
    "        classes.append(\"Budget\")\n",
    "    elif(price<30000):\n",
    "           classes.append(\"Mid-Range\")\n",
    "    else:\n",
    "        classes.append(\"Premium\")\n",
    "\n",
    "data[\"Class\"] = classes\n",
    "print(data.head)"
   ]
  },
  {
   "cell_type": "code",
   "execution_count": 4,
   "metadata": {},
   "outputs": [],
   "source": [
    "X = data.drop([\"Price\",\"Class\"],1)\n",
    "x_data=X\n",
    "y = data[\"Class\"]\n",
    "\n",
    "classes = [\"Low\",\"Budget\",\"Mid-Range\",\"Premium\"]"
   ]
  },
  {
   "cell_type": "code",
   "execution_count": 5,
   "metadata": {},
   "outputs": [
    {
     "output_type": "stream",
     "name": "stdout",
     "text": "train accuracy: 0.7881828316610925\ntest accuracy: 0.7866666666666666\ntrain_accuracy: 0.9866220735785953\ntest_accuracy:  0.9111111111111111\n"
    }
   ],
   "source": [
    "x_train, x_test, y_train, y_test = train_test_split(X,y,test_size = 0.2,random_state=1)\n",
    "\n",
    "svm=SVC(random_state=1)\n",
    "svm.fit(x_train,y_train)\n",
    "print(\"train accuracy:\",svm.score(x_train,y_train))\n",
    "print(\"test accuracy:\",svm.score(x_test,y_test))\n",
    "\n",
    "\n",
    "svm_model=SVC(C=2,decision_function_shape=\"ovo\",gamma=1,kernel=\"rbf\",random_state=1)\n",
    "\n",
    "svm_model.fit(x_train,y_train)\n",
    "\n",
    "\n",
    "print(\"train_accuracy:\",svm_model.score(x_train,y_train))\n",
    "print(\"test_accuracy: \", svm_model.score(x_test,y_test))\n",
    ""
   ]
  },
  {
   "cell_type": "code",
   "execution_count": 6,
   "metadata": {},
   "outputs": [
    {
     "output_type": "execute_result",
     "data": {
      "text/plain": "['svm_model.joblib']"
     },
     "metadata": {},
     "execution_count": 6
    }
   ],
   "source": [
    "from joblib import dump, load\n",
    "dump(svm_model, 'svm_model.joblib',) "
   ]
  },
  {
   "cell_type": "code",
   "execution_count": null,
   "metadata": {},
   "outputs": [],
   "source": []
  }
 ],
 "metadata": {
  "kernelspec": {
   "display_name": "Python 3",
   "language": "python",
   "name": "python3"
  },
  "language_info": {
   "codemirror_mode": {
    "name": "ipython",
    "version": 3
   },
   "file_extension": ".py",
   "mimetype": "text/x-python",
   "name": "python",
   "nbconvert_exporter": "python",
   "pygments_lexer": "ipython3",
   "version": "3.6.10-final"
  }
 },
 "nbformat": 4,
 "nbformat_minor": 4
}